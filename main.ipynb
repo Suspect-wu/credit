{
 "cells": [
  {
   "cell_type": "code",
   "execution_count": null,
   "metadata": {},
   "outputs": [],
   "source": [
    "import pandas as pd\n",
    "import numpy as np\n",
    "import seaborn as sns\n",
    "import matplotlib.pyplot as plt\n",
    "from sklearn.pipeline import Pipeline\n",
    "from sklearn.preprocessing import StandardScaler,PowerTransformer\n",
    "from sklearn.linear_model import LinearRegression,LassoCV,LogisticRegression\n",
    "from sklearn.ensemble import RandomForestClassifier,RandomForestRegressor\n",
    "from sklearn.model_selection import KFold,train_test_split,StratifiedKFold,GridSearchCV,cross_val_score\n",
    "from sklearn.metrics import mean_squared_error, mean_absolute_error, r2_score,accuracy_score, \\\n",
    "                            precision_score,recall_score, roc_auc_score\n",
    "from sklearn.metrics import classification_report\n",
    "plt.rcParams['font.sans-serif'] = ['simhei']\n",
    "plt.rcParams['axes.unicode_minus'] = False"
   ]
  },
  {
   "cell_type": "code",
   "execution_count": null,
   "metadata": {
    "pycharm": {
     "name": "#%%\n"
    }
   },
   "outputs": [],
   "source": [
    "path = './data/cs-training.csv'\n",
    "df = pd.read_csv(path)\n",
    "df = df.drop('Unnamed: 0', axis=1)\n",
    "df.rename(columns = {'SeriousDlqin2yrs':'未来两年可能违约', 'RevolvingUtilizationOfUnsecuredLines':'可用信贷额度比例', 'age':'年龄',\n",
    "       'NumberOfTime30-59DaysPastDueNotWorse':'逾期30-59天的笔数', 'DebtRatio':'负债率', 'MonthlyIncome':'月收入',\n",
    "       'NumberOfOpenCreditLinesAndLoans':'信贷数量', 'NumberOfTimes90DaysLate':'逾期90天+的笔数',\n",
    "       'NumberRealEstateLoansOrLines':'固定资产贷款数', 'NumberOfTime60-89DaysPastDueNotWorse':'逾期60-89天的笔数',\n",
    "       'NumberOfDependents':'家属数量'},inplace=True)\n",
    "# isnull()将含有缺失值的表明True False\n",
    "df.info()\n",
    "print(df.isnull().sum())\n",
    "print(df.columns)\n",
    "df.shape"
   ]
  },
  {
   "cell_type": "code",
   "execution_count": null,
   "metadata": {
    "pycharm": {
     "is_executing": true,
     "name": "#%%\n"
    }
   },
   "outputs": [],
   "source": [
    "# 输出各字段分布情况图\n",
    "# 大多数字段明显偏态，后续建模需考虑纠偏处理\n",
    "df.shape\n",
    "plt.figure(figsize=(20,20),dpi=300)\n",
    "plt.subplots_adjust(wspace =0.3, hspace =0.3)\n",
    "for n,i in enumerate(df.columns):\n",
    "    plt.subplot(4,3,n+1)\n",
    "    plt.title(i,fontsize=15)\n",
    "    plt.grid(linestyle='--', alpha=0.5)\n",
    "    df[i].hist(alpha=0.5)\n",
    "\n",
    "print(df.shape)\n"
   ]
  },
  {
   "cell_type": "code",
   "execution_count": null,
   "metadata": {
    "pycharm": {
     "is_executing": true
    }
   },
   "outputs": [],
   "source": [
    "df.shape"
   ]
  },
  {
   "cell_type": "code",
   "execution_count": null,
   "metadata": {
    "pycharm": {
     "is_executing": true
    }
   },
   "outputs": [],
   "source": [
    "df.shape\n",
    "plt.figure(figsize=(20, 20), dpi=300)\n",
    "plt.subplots_adjust(wspace=0.3, hspace=0.3)\n",
    "for index,name in enumerate(df.columns):\n",
    "    plt.subplot(4, 3, index+1)\n",
    "    plt.title(name, fontsize=15)\n",
    "    plt.grid(alpha=0.5, linestyle='--')\n",
    "    df[[name]].boxplot(sym='.')\n",
    "    "
   ]
  },
  {
   "cell_type": "code",
   "execution_count": null,
   "metadata": {
    "pycharm": {
     "is_executing": true,
     "name": "#%%\n"
    }
   },
   "outputs": [],
   "source": [
    "plt.figure(figsize=(10, 5), dpi=300)\n",
    "sns.heatmap(df.corr(), cmap='Reds', annot=True)"
   ]
  },
  {
   "cell_type": "markdown",
   "metadata": {},
   "source": [
    "## 数据预处理"
   ]
  },
  {
   "cell_type": "markdown",
   "metadata": {
    "pycharm": {
     "name": "#%% md\n"
    }
   },
   "source": [
    "### 异常值处理"
   ]
  },
  {
   "cell_type": "code",
   "execution_count": null,
   "metadata": {
    "pycharm": {
     "is_executing": true,
     "name": "#%%\n"
    }
   },
   "outputs": [],
   "source": [
    "class error_processing():\n",
    "    def __init__(self, df):\n",
    "        self.df = df\n",
    "        \n",
    "    def show_error(self, df, col, whis=1.5, show=False):\n",
    "        iqr = df[col].quantile(0.75) - df[col].quantile(0.25)\n",
    "        upper_bound = df[col].quantile(0.75) + whis * iqr\n",
    "        lower_bound = df[col].quantile(0.25) - whis * iqr\n",
    "        print('【', col, '】上界异常值总数：', df[col][df[col] > upper_bound].count())\n",
    "        if show:\n",
    "            print('异常值实例：', df[col][df[col] > upper_bound].head(5).T)\n",
    "        print('【', col, '】下界异常值总数：', df[col][df[col] < lower_bound].count())\n",
    "        if show:\n",
    "            print('异常值实例：', df[col][df[col] < lower_bound].head(5).T)\n",
    "            \n",
    "    def drop_error(df, col, whis):\n",
    "        iqr = df[col].quantile(0.75) - df[col].quantile(0.25)\n",
    "        upper_bound = df[col].quantile(0.75) + whis * iqr\n",
    "        lower_bound = df[col].quantile(0.25) - whis * iqr\n",
    "        df = df[(df[col] <= upper_bound) & (df[col] >= lower_bound)]\n",
    "        return df\n",
    "\n",
    "n = df.shape[0]\n",
    "print(n)\n",
    "ep = error_processing(df)\n",
    "# 可用信贷额度\n",
    "# 从分布直方图可知，比例大于1的应该为错误值。\n",
    "# 错误值共3321，若剔除可能影响建模效果。剔除>=20000的数据\n",
    "ep.show_error(df, '可用信贷额度比例')\n",
    "df = df[df.可用信贷额度比例 <= 20000]\n",
    "\n",
    "# 年龄\n",
    "# 异常值数量不多，剔除年龄大于100小于18的异常数据\n",
    "ep.show_error(df, '年龄')\n",
    "df = df[(df['年龄'] > 18) & (df['年龄'] < 100)]\n",
    "\n",
    "# 逾期30-59天的笔数\n",
    "# 根据箱型图去除>80的异常数据\n",
    "ep.show_error(df, '逾期30-59天的笔数')\n",
    "df = df[df['逾期30-59天的笔数'] < 80]\n",
    "\n",
    "# 逾期90天+的笔数\n",
    "# 根据箱型图去除>80的异常数据\n",
    "ep.show_error(df, '逾期90天+的笔数')\n",
    "df = df[df['逾期90天+的笔数'] < 80]\n",
    "\n",
    "# 逾期60-89天的笔数\n",
    "# 根据箱型图去除>80的异常数据\n",
    "ep.show_error(df, '逾期60-89天的笔数')\n",
    "df = df[df['逾期60-89天的笔数'] < 80]\n",
    "\n",
    "# 负债率\n",
    "# 根据箱型图去除>100000的异常数据\n",
    "ep.show_error(df, '负债率')\n",
    "df = df[df['负债率'] < 100000]\n",
    "\n",
    "# 月收入\n",
    "# 根据箱型图去除>500000的异常数据\n",
    "ep.show_error(df, '月收入')\n",
    "df = df[(df['月收入'] < 500000) | df.月收入.isna()]\n",
    "\n",
    "# 固定资产贷款数\n",
    "# 根据箱型图去除>20的异常数据\n",
    "ep.show_error(df, '固定资产贷款数')\n",
    "df = df[df['固定资产贷款数'] < 20]\n",
    "\n",
    "# 家属数量\n",
    "# 根据箱型图去除>10的异常数据\n",
    "ep.show_error(df, '家属数量')\n",
    "df = df[(df['家属数量'] <= 12) | df.家属数量.isna()]\n",
    "\n",
    "print('共删除:', n - df.shape[0], '数据')\n",
    "df.shape"
   ]
  },
  {
   "cell_type": "markdown",
   "metadata": {
    "pycharm": {
     "name": "#%% md\n"
    }
   },
   "source": [
    "### 缺失值处理"
   ]
  },
  {
   "cell_type": "code",
   "execution_count": null,
   "metadata": {
    "pycharm": {
     "is_executing": true,
     "name": "#%%\n"
    }
   },
   "outputs": [],
   "source": [
    "def missing_values_processing(df,flag1=1,flag2=1):\n",
    "    '''\n",
    "    缺失值处理\n",
    "    df：数据源\n",
    "    flag1：默认为1，众数填充家属；0，去除带空值数据行。\n",
    "    f2：默认为1，众数填充月收入；0，平均数填充月收入。\n",
    "    '''\n",
    "    # 家属数量 - 剔除或众数填充\n",
    "    if flag1 == 1:\n",
    "        df.loc[df.家属数量.isna(),'家属数量'] = df.家属数量.mode()[0]\n",
    "    elif flag1 == 2:\n",
    "        df = df.dropna(subset=['家属数量'])\n",
    "    else:\n",
    "        print('parameter wrong!')\n",
    "    \n",
    "    # 月收入 - 剔除或均值填充\n",
    "    if flag2 == 1:\n",
    "        df.loc[df.月收入.isna(),'月收入'] = df.月收入.mode()[0]\n",
    "    elif flag2 == 0:    \n",
    "        df.loc[df.月收入.isna(),'月收入'] = df.月收入.mean()[0]\n",
    "    else:\n",
    "        print('parameter wrong!')   \n",
    "\n",
    "missing_values_processing(df)"
   ]
  },
  {
   "cell_type": "markdown",
   "metadata": {
    "pycharm": {
     "name": "#%% md\n"
    }
   },
   "source": [
    "### 共线性处"
   ]
  },
  {
   "cell_type": "code",
   "execution_count": null,
   "metadata": {
    "pycharm": {
     "is_executing": true,
     "name": "#%%\n"
    }
   },
   "outputs": [],
   "source": [
    "# 可考虑保留'逾期90天+的笔数'，求出'逾期60-89天的笔数'/'逾期30-59天的笔数'的比值\n",
    "def collineation_processing(df,col,col1,col2,name):\n",
    "    '''\n",
    "    去除共线性，保留一个字段，其他字段求比值\n",
    "    df：数据源\n",
    "    col：保留字段\n",
    "    col1，col2：求比值字段\n",
    "    name：新比值字段名称\n",
    "    '''\n",
    "    def trans2percent(row):\n",
    "        if row[col2] == 0:\n",
    "            return 0\n",
    "        else:\n",
    "            return row[col1] / row[col2]\n",
    "    df[name] = df.apply(trans2percent,axis=1)\n",
    "    print(df[[name,col]].corr())\n",
    "    \n",
    "\n",
    "collineation_processing(df, '逾期90天+的笔数', '逾期60-89天的笔数', '逾期30-59天的笔数', '逾期60-89天/30-59天')\n",
    "df.shape"
   ]
  },
  {
   "cell_type": "markdown",
   "metadata": {
    "pycharm": {
     "name": "#%% md\n"
    }
   },
   "source": [
    "### 重采样"
   ]
  },
  {
   "cell_type": "code",
   "execution_count": null,
   "metadata": {
    "pycharm": {
     "is_executing": true,
     "name": "#%%\n"
    }
   },
   "outputs": [],
   "source": [
    "# 从数据初探可以发现，'未来两年可能违约'标签类别分布不均，需对样本进行重取样\n",
    "\n",
    "def resample(df):\n",
    "    '''\n",
    "    使样本'未来两年可能违约'标签的0，1项可以各占一半，以提高预测效果。sample()可以考虑添加random_state以便生成相同样本集\n",
    "    df：数据源\n",
    "    '''\n",
    "    num = df['未来两年可能违约'].value_counts()[1]\n",
    "    df_t = df[df.未来两年可能违约==1]\n",
    "    df_f = df[df.未来两年可能违约==0].sample(frac=1)[0:num]\n",
    "    df_balanced = pd.concat([df_t,df_f]).sample(frac=1).reset_index(drop=True)\n",
    "#     print(df_balanced.未来两年可能违约.value_counts())\n",
    "    return df_balanced\n",
    "\n",
    "df = resample(df)\n"
   ]
  },
  {
   "cell_type": "markdown",
   "metadata": {
    "pycharm": {
     "name": "#%% md\n"
    }
   },
   "source": [
    "## 得到训练数据"
   ]
  },
  {
   "cell_type": "code",
   "execution_count": null,
   "metadata": {
    "pycharm": {
     "is_executing": true,
     "name": "#%%\n"
    }
   },
   "outputs": [],
   "source": [
    "X = df.drop(['未来两年可能违约', '逾期30-59天的笔数','逾期60-89天的笔数'], axis=1)\n",
    "y = df['未来两年可能违约']    \n",
    "xtrain,xtest,ytrain,ytest = train_test_split(X,y,test_size=0.2)    # random_state=42\n",
    "# 分层k折交叉拆分器 - 用于网格搜索\n",
    "cv = StratifiedKFold(n_splits=3,shuffle=True)"
   ]
  },
  {
   "cell_type": "code",
   "execution_count": null,
   "metadata": {
    "pycharm": {
     "is_executing": true
    }
   },
   "outputs": [],
   "source": [
    "# 分类模型性能查看函数\n",
    "def perfomance_clf(model,X,y,name=None):\n",
    "    y_predict = model.predict(X)\n",
    "    if name:\n",
    "        print(name,':')\n",
    "    print(f'accuracy score is: {accuracy_score(y,y_predict)}')\n",
    "    print(f'precision score is: {precision_score(y,y_predict)}')\n",
    "    print(f'recall score is: {recall_score(y,y_predict)}')\n",
    "    print(f'auc: {roc_auc_score(y,y_predict)}')\n",
    "    print(classification_report(y, y_predict, target_names=['未违约', '违约']))\n",
    "    print('- - - - - - ')"
   ]
  },
  {
   "cell_type": "code",
   "execution_count": null,
   "metadata": {
    "pycharm": {
     "is_executing": true
    }
   },
   "outputs": [],
   "source": [
    "# 参数设定\n",
    "log_params = {\"penalty\":['l1','l2'],\n",
    "                 'C':[i * 10**i for i in range(0,4)] + [0.1 ** i for i in range(1,4)]}\n",
    "# 参数搜索\n",
    "log_gridsearch = GridSearchCV(LogisticRegression(solver='liblinear'),log_params,cv=cv,\n",
    "                               n_jobs=-1,scoring='roc_auc',verbose=2,refit=True)\n",
    "# 工作流管道\n",
    "pipe_log = Pipeline([\n",
    "        ('sc',StandardScaler()),    # 标准化Z-score\n",
    "        ('pow_trans',PowerTransformer()),    # 纠偏\n",
    "        ('log_grid',log_gridsearch)\n",
    "        ])\n",
    "# 搜索参数并训练模型\n",
    "pipe_log.fit(xtrain,ytrain)\n",
    "# 最佳参数组合\n",
    "print(pipe_log.named_steps['log_grid'].best_params_)\n",
    "# 训练集性能指标\n",
    "perfomance_clf(pipe_log,xtrain,ytrain,name='train')\n",
    "# 测试集性能指标\n",
    "perfomance_clf(pipe_log,xtest,ytest,name='test')"
   ]
  },
  {
   "cell_type": "code",
   "execution_count": null,
   "metadata": {
    "pycharm": {
     "is_executing": true
    }
   },
   "outputs": [],
   "source": []
  }
 ],
 "metadata": {
  "kernelspec": {
   "display_name": "Python 3",
   "language": "python",
   "name": "python3"
  },
  "language_info": {
   "codemirror_mode": {
    "name": "ipython",
    "version": 3
   },
   "file_extension": ".py",
   "mimetype": "text/x-python",
   "name": "python",
   "nbconvert_exporter": "python",
   "pygments_lexer": "ipython3",
   "version": "3.7.0"
  }
 },
 "nbformat": 4,
 "nbformat_minor": 1
}